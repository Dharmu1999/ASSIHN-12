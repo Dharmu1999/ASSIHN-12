{
 "cells": [
  {
   "cell_type": "markdown",
   "id": "f951d298-fe93-49a4-a76e-318cc641b917",
   "metadata": {},
   "source": [
    "# Q1.What is an exception in python? write the difference between exception and syntax error ?"
   ]
  },
  {
   "cell_type": "markdown",
   "id": "82dd30e0-f3b7-48ef-a1df-d61c89fb3a39",
   "metadata": {},
   "source": [
    "# ANS\n",
    "In Python, an exception is an event that occurs during the execution of a program that disrupts the normal flow of the program's instructions. When an exception occurs, the program execution is stopped and an error message is displayed. Exceptions are used to handle various types of errors and unexpected situations that can occur during program execution.\n",
    "\n",
    "On the other hand, a syntax error is a type of error that occurs when the Python interpreter is unable to understand the code because it does not conform to the syntax rules of the language. Syntax errors are detected by the interpreter before the program is executed, and they prevent the program from running.\n",
    "\n",
    "The main difference between an exception and a syntax error is that a syntax error is a mistake in the code itself, whereas an exception is an error that occurs during the execution of the code. Syntax errors are usually caused by a typo or a mistake in the code's syntax, while exceptions can be caused by a wide variety of factors, such as invalid input, missing files, or network problems."
   ]
  },
  {
   "cell_type": "markdown",
   "id": "c7f69416-854f-42f9-b3d3-1bf64a11cd23",
   "metadata": {},
   "source": [
    "# Q2.what happen when an exception  is not handle ?explain with one example ?"
   ]
  },
  {
   "cell_type": "markdown",
   "id": "f025ea33-8eb7-4142-b958-8ce36cbd9ca5",
   "metadata": {},
   "source": [
    "# ANS\n",
    "When an exception is not handled, it will cause the program to terminate abruptly and display an error message, which can be confusing for the user and make it difficult to diagnose the root cause of the problem."
   ]
  },
  {
   "cell_type": "code",
   "execution_count": 1,
   "id": "7c842c55-46a8-45ed-84cc-b19419cb21b2",
   "metadata": {},
   "outputs": [
    {
     "name": "stdin",
     "output_type": "stream",
     "text": [
      "Enter an integer:  2\n"
     ]
    },
    {
     "name": "stdout",
     "output_type": "stream",
     "text": [
      "Result:  5.0\n"
     ]
    }
   ],
   "source": [
    "x = int(input(\"Enter an integer: \"))\n",
    "result = 10 / x\n",
    "print(\"Result: \", result)\n"
   ]
  },
  {
   "cell_type": "code",
   "execution_count": 7,
   "id": "9b2b2d2b-0ad0-4266-ad4d-27a88d1be923",
   "metadata": {},
   "outputs": [
    {
     "ename": "SyntaxError",
     "evalue": "invalid syntax (2823220836.py, line 1)",
     "output_type": "error",
     "traceback": [
      "\u001b[0;36m  Cell \u001b[0;32mIn[7], line 1\u001b[0;36m\u001b[0m\n\u001b[0;31m    Enter  an integer: 0\u001b[0m\n\u001b[0m           ^\u001b[0m\n\u001b[0;31mSyntaxError\u001b[0m\u001b[0;31m:\u001b[0m invalid syntax\n"
     ]
    }
   ],
   "source": [
    "Enter  an integer: 0\n",
    "Traceback (most recent call last):\n",
    "    File \"example.py\", line 2, in <module>\n",
    "    result = 10 / x\n",
    "ZeroDivisionError: division by zero\n"
   ]
  },
  {
   "cell_type": "code",
   "execution_count": 10,
   "id": "a7c039d6-0456-4338-bf27-d8fe0c574f73",
   "metadata": {},
   "outputs": [
    {
     "name": "stdin",
     "output_type": "stream",
     "text": [
      "Enter an integer:  0\n"
     ]
    },
    {
     "name": "stdout",
     "output_type": "stream",
     "text": [
      "Cannot divide by zero!\n"
     ]
    }
   ],
   "source": [
    "try:\n",
    "    x = int(input(\"Enter an integer: \"))\n",
    "    result = 10 / x\n",
    "    print(\"Result: \", result)\n",
    "except ZeroDivisionError:\n",
    "    print(\"Cannot divide by zero!\")\n"
   ]
  },
  {
   "cell_type": "markdown",
   "id": "55252dd1-658b-474f-b6bd-a09f5ac2da6a",
   "metadata": {},
   "source": [
    "# Q3. which python statement is use to catch and handle exception ?  explain with an example ?"
   ]
  },
  {
   "cell_type": "code",
   "execution_count": 11,
   "id": "aa4524c9-042a-4bfc-beec-2cd7b4229f5b",
   "metadata": {},
   "outputs": [
    {
     "ename": "IndentationError",
     "evalue": "expected an indented block after 'try' statement on line 2 (130772028.py, line 4)",
     "output_type": "error",
     "traceback": [
      "\u001b[0;36m  Cell \u001b[0;32mIn[11], line 4\u001b[0;36m\u001b[0m\n\u001b[0;31m    except ExceptionType:\u001b[0m\n\u001b[0m    ^\u001b[0m\n\u001b[0;31mIndentationError\u001b[0m\u001b[0;31m:\u001b[0m expected an indented block after 'try' statement on line 2\n"
     ]
    }
   ],
   "source": [
    "# ans\n",
    "try:\n",
    "    # code that may raise an exception\n",
    "except ExceptionType:\n",
    "    # code to handle the exception\n"
   ]
  },
  {
   "cell_type": "code",
   "execution_count": 13,
   "id": "e408c309-f65c-42da-9423-6bf764b1677b",
   "metadata": {},
   "outputs": [
    {
     "name": "stdin",
     "output_type": "stream",
     "text": [
      "Enter a number:  y\n"
     ]
    },
    {
     "name": "stdout",
     "output_type": "stream",
     "text": [
      "Please enter a valid integer.\n"
     ]
    }
   ],
   "source": [
    "try:\n",
    "    x = int(input(\"Enter a number: \"))\n",
    "    y = 10 / x\n",
    "    print(\"The result is:\", y)\n",
    "except ValueError:\n",
    "    print(\"Please enter a valid integer.\")\n",
    "except ZeroDivisionError:\n",
    "    print(\"Cannot divide by zero.\")\n",
    "except Exception as e:\n",
    "    print(\"An error occurred:\", e)\n"
   ]
  },
  {
   "cell_type": "markdown",
   "id": "c8289965-c72c-4074-9a26-dc2c4fbd53a3",
   "metadata": {},
   "source": [
    "# Explain with an example:\n",
    "# try and else\n",
    "# finally \n",
    "# raise"
   ]
  },
  {
   "cell_type": "code",
   "execution_count": 14,
   "id": "3d04cea9-ab37-4478-8740-4a7e1ed00ec9",
   "metadata": {},
   "outputs": [
    {
     "name": "stdout",
     "output_type": "stream",
     "text": [
      "10 divided by 5 is 2.0\n",
      "The 'finally' block always executes.\n",
      "2.0\n",
      "Cannot divide by zero!\n",
      "The 'finally' block always executes.\n"
     ]
    },
    {
     "ename": "ValueError",
     "evalue": "Invalid input: Division by zero",
     "output_type": "error",
     "traceback": [
      "\u001b[0;31m---------------------------------------------------------------------------\u001b[0m",
      "\u001b[0;31mZeroDivisionError\u001b[0m                         Traceback (most recent call last)",
      "Cell \u001b[0;32mIn[14], line 3\u001b[0m, in \u001b[0;36mdivide_numbers\u001b[0;34m(a, b)\u001b[0m\n\u001b[1;32m      2\u001b[0m \u001b[38;5;28;01mtry\u001b[39;00m:\n\u001b[0;32m----> 3\u001b[0m     result \u001b[38;5;241m=\u001b[39m \u001b[43ma\u001b[49m\u001b[43m \u001b[49m\u001b[38;5;241;43m/\u001b[39;49m\u001b[43m \u001b[49m\u001b[43mb\u001b[49m\n\u001b[1;32m      4\u001b[0m \u001b[38;5;28;01mexcept\u001b[39;00m \u001b[38;5;167;01mZeroDivisionError\u001b[39;00m:\n",
      "\u001b[0;31mZeroDivisionError\u001b[0m: division by zero",
      "\nDuring handling of the above exception, another exception occurred:\n",
      "\u001b[0;31mValueError\u001b[0m                                Traceback (most recent call last)",
      "Cell \u001b[0;32mIn[14], line 14\u001b[0m\n\u001b[1;32m     11\u001b[0m         \u001b[38;5;28mprint\u001b[39m(\u001b[38;5;124m\"\u001b[39m\u001b[38;5;124mThe \u001b[39m\u001b[38;5;124m'\u001b[39m\u001b[38;5;124mfinally\u001b[39m\u001b[38;5;124m'\u001b[39m\u001b[38;5;124m block always executes.\u001b[39m\u001b[38;5;124m\"\u001b[39m)\n\u001b[1;32m     13\u001b[0m \u001b[38;5;28mprint\u001b[39m(divide_numbers(\u001b[38;5;241m10\u001b[39m, \u001b[38;5;241m5\u001b[39m))\n\u001b[0;32m---> 14\u001b[0m \u001b[38;5;28mprint\u001b[39m(\u001b[43mdivide_numbers\u001b[49m\u001b[43m(\u001b[49m\u001b[38;5;241;43m10\u001b[39;49m\u001b[43m,\u001b[49m\u001b[43m \u001b[49m\u001b[38;5;241;43m0\u001b[39;49m\u001b[43m)\u001b[49m)\n",
      "Cell \u001b[0;32mIn[14], line 6\u001b[0m, in \u001b[0;36mdivide_numbers\u001b[0;34m(a, b)\u001b[0m\n\u001b[1;32m      4\u001b[0m \u001b[38;5;28;01mexcept\u001b[39;00m \u001b[38;5;167;01mZeroDivisionError\u001b[39;00m:\n\u001b[1;32m      5\u001b[0m     \u001b[38;5;28mprint\u001b[39m(\u001b[38;5;124m\"\u001b[39m\u001b[38;5;124mCannot divide by zero!\u001b[39m\u001b[38;5;124m\"\u001b[39m)\n\u001b[0;32m----> 6\u001b[0m     \u001b[38;5;28;01mraise\u001b[39;00m \u001b[38;5;167;01mValueError\u001b[39;00m(\u001b[38;5;124m\"\u001b[39m\u001b[38;5;124mInvalid input: Division by zero\u001b[39m\u001b[38;5;124m\"\u001b[39m)\n\u001b[1;32m      7\u001b[0m \u001b[38;5;28;01melse\u001b[39;00m:\n\u001b[1;32m      8\u001b[0m     \u001b[38;5;28mprint\u001b[39m(\u001b[38;5;124mf\u001b[39m\u001b[38;5;124m\"\u001b[39m\u001b[38;5;132;01m{\u001b[39;00ma\u001b[38;5;132;01m}\u001b[39;00m\u001b[38;5;124m divided by \u001b[39m\u001b[38;5;132;01m{\u001b[39;00mb\u001b[38;5;132;01m}\u001b[39;00m\u001b[38;5;124m is \u001b[39m\u001b[38;5;132;01m{\u001b[39;00mresult\u001b[38;5;132;01m}\u001b[39;00m\u001b[38;5;124m\"\u001b[39m)\n",
      "\u001b[0;31mValueError\u001b[0m: Invalid input: Division by zero"
     ]
    }
   ],
   "source": [
    "def divide_numbers(a, b):\n",
    "    try:\n",
    "        result = a / b\n",
    "    except ZeroDivisionError:\n",
    "        print(\"Cannot divide by zero!\")\n",
    "        raise ValueError(\"Invalid input: Division by zero\")\n",
    "    else:\n",
    "        print(f\"{a} divided by {b} is {result}\")\n",
    "        return result\n",
    "    finally:\n",
    "        print(\"The 'finally' block always executes.\")\n",
    "\n",
    "print(divide_numbers(10, 5))\n",
    "print(divide_numbers(10, 0))\n"
   ]
  },
  {
   "cell_type": "markdown",
   "id": "70d8b10b-11b3-4868-af5a-e629fe989f08",
   "metadata": {},
   "source": [
    "# ANS\n",
    "Custom exceptions in Python are exceptions that you can define yourself to handle specific errors or situations that are not covered by built-in exceptions. Custom exceptions are classes that inherit from the base Exception class or one of its subclasses.\n",
    "\n",
    "We need custom exceptions when we want to handle errors or exceptions that are specific to our code or domain. Custom exceptions allow us to create meaningful error messages that help us identify the root cause of the problem, rather than relying on generic error messages that are not informative. Custom exceptions can also help us handle errors more gracefully and provide better feedback to users."
   ]
  },
  {
   "cell_type": "code",
   "execution_count": 16,
   "id": "0670ede0-3305-4ba6-9204-f88e6acbfaf5",
   "metadata": {},
   "outputs": [],
   "source": [
    "class NegativeNumberError(Exception):\n",
    "    pass\n",
    "\n",
    "def square_root(x):\n",
    "    if x < 0:\n",
    "        raise NegativeNumberError(\"Cannot calculate square root of negative number\")\n",
    "    else:\n",
    "        return math.sqrt(x)\n"
   ]
  },
  {
   "cell_type": "code",
   "execution_count": 17,
   "id": "7f10dd45-ed7a-43cf-9cf2-eedf2be46ec5",
   "metadata": {},
   "outputs": [
    {
     "name": "stdout",
     "output_type": "stream",
     "text": [
      "Cannot calculate square root of negative number\n"
     ]
    }
   ],
   "source": [
    "try:\n",
    "    result = square_root(-10)\n",
    "except NegativeNumberError as e:\n",
    "    print(e)\n",
    "else:\n",
    "    print(result)\n"
   ]
  },
  {
   "cell_type": "code",
   "execution_count": null,
   "id": "a60b6042-c6a4-42c1-9e96-b52a465b019f",
   "metadata": {},
   "outputs": [],
   "source": [
    "Q.6 Create a custom Exception in class use the class and handle the Exception ?"
   ]
  }
 ],
 "metadata": {
  "kernelspec": {
   "display_name": "Python 3 (ipykernel)",
   "language": "python",
   "name": "python3"
  },
  "language_info": {
   "codemirror_mode": {
    "name": "ipython",
    "version": 3
   },
   "file_extension": ".py",
   "mimetype": "text/x-python",
   "name": "python",
   "nbconvert_exporter": "python",
   "pygments_lexer": "ipython3",
   "version": "3.10.8"
  }
 },
 "nbformat": 4,
 "nbformat_minor": 5
}
